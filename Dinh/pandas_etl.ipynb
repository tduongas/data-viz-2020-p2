{
 "cells": [
  {
   "cell_type": "code",
   "execution_count": 1,
   "metadata": {},
   "outputs": [],
   "source": [
    "import pandas as pd\n",
    "import json\n",
    "from sqlalchemy import create_engine\n",
    "from config import db_username, db_password\n",
    "from psycopg2 import connect, extensions, sql"
   ]
  },
  {
   "cell_type": "markdown",
   "metadata": {},
   "source": [
    "### Extract CSVs into DataFrames"
   ]
  },
  {
   "cell_type": "code",
   "execution_count": 2,
   "metadata": {},
   "outputs": [],
   "source": [
    "deaths_file = \"Data/Deaths_FL.csv\"\n",
    "deaths_df = pd.read_csv(deaths_file)\n",
    "# deaths_df.head()"
   ]
  },
  {
   "cell_type": "code",
   "execution_count": 3,
   "metadata": {},
   "outputs": [],
   "source": [
    "all_cases_file = \"Data/AllCases_FL.csv\"\n",
    "all_cases_df = pd.read_csv(all_cases_file)\n",
    "# all_cases_df.head()"
   ]
  },
  {
   "cell_type": "code",
   "execution_count": 4,
   "metadata": {},
   "outputs": [],
   "source": [
    "cases_by_county_file = \"Data/AllCases_FL.csv\"\n",
    "cases_by_county_df = pd.read_csv(cases_by_county_file)\n",
    "# cases_by_county_df.head()"
   ]
  },
  {
   "cell_type": "code",
   "execution_count": 5,
   "metadata": {},
   "outputs": [],
   "source": [
    "county_population_file = \"Data/CountyPopulation.csv\"\n",
    "county_population_df = pd.read_csv(county_population_file)\n",
    "# county_population_df.head()"
   ]
  },
  {
   "cell_type": "code",
   "execution_count": 6,
   "metadata": {},
   "outputs": [],
   "source": [
    "fl_schools_geo_plan_file = \"Data/GeoPlan_Public_and_Private_Schools_in_Florida_-_2017.geojson\"\n",
    "data = json.load(open(fl_schools_geo_plan_file))\n",
    "fl_schools_geo_plan_df = pd.DataFrame(data[\"features\"])\n",
    "# fl_schools_geo_plan_df.head(5)"
   ]
  },
  {
   "cell_type": "markdown",
   "metadata": {},
   "source": [
    "Connect to server and create database if not exists"
   ]
  },
  {
   "cell_type": "code",
   "execution_count": 7,
   "metadata": {
    "tags": []
   },
   "outputs": [
    {
     "output_type": "stream",
     "name": "stdout",
     "text": "\ntype(conn): <class 'psycopg2.extensions.connection'>\nISOLATION_LEVEL_AUTOCOMMIT: 0\n"
    }
   ],
   "source": [
    "conn = connect(dbname = \"\", user = f\"{db_username}\", host = \"localhost\", password = f\"{db_password}\")\n",
    "\n",
    "# object type: psycopg2.extensions.connection\n",
    "print (\"\\ntype(conn):\", type(conn))\n",
    "\n",
    "# define database name\n",
    "DB_NAME = \"project_2_db\"\n",
    "\n",
    "# get the isolation leve for autocommit\n",
    "autocommit = extensions.ISOLATION_LEVEL_AUTOCOMMIT\n",
    "print (\"ISOLATION_LEVEL_AUTOCOMMIT:\", extensions.ISOLATION_LEVEL_AUTOCOMMIT)\n",
    "\n",
    "# set the isolation level for the connection's cursors\n",
    "# will raise ActiveSqlTransaction exception otherwise\n",
    "conn.set_isolation_level( autocommit )\n",
    "\n",
    "# instantiate a cursor object from the connection\n",
    "cursor = conn.cursor()\n",
    "\n",
    "try:\n",
    "    # use the sql module to avoid SQL injection attacks\n",
    "    cursor.execute(sql.SQL(\"CREATE DATABASE {}\").format(sql.Identifier( DB_NAME )))\n",
    "except:\n",
    "    print(f\"Database {DB_NAME} Already exists\")\n",
    "\n",
    "\n",
    "# close the cursor to avoid memory leaks\n",
    "cursor.close()\n",
    "\n",
    "# close the connection to avoid memory leaks\n",
    "conn.close()"
   ]
  },
  {
   "cell_type": "code",
   "execution_count": 8,
   "metadata": {},
   "outputs": [],
   "source": [
    "connection_string = f\"{db_username}:{db_password}@localhost:5432/project_2_db\"\n",
    "engine = create_engine(f'postgresql://{connection_string}')"
   ]
  },
  {
   "cell_type": "code",
   "execution_count": 9,
   "metadata": {},
   "outputs": [
    {
     "output_type": "execute_result",
     "data": {
      "text/plain": "[]"
     },
     "metadata": {},
     "execution_count": 9
    }
   ],
   "source": [
    "# Confirm tables\n",
    "engine.table_names()"
   ]
  },
  {
   "cell_type": "markdown",
   "metadata": {},
   "source": [
    "### Load DataFrames into database"
   ]
  },
  {
   "cell_type": "code",
   "execution_count": 10,
   "metadata": {},
   "outputs": [],
   "source": [
    "deaths_df.to_sql(name='deaths', con=engine, if_exists='replace', index=True)"
   ]
  },
  {
   "cell_type": "code",
   "execution_count": 11,
   "metadata": {},
   "outputs": [],
   "source": [
    "all_cases_df.to_sql(name='all_cases', con=engine, if_exists='replace', index=True)"
   ]
  },
  {
   "cell_type": "code",
   "execution_count": 12,
   "metadata": {},
   "outputs": [],
   "source": [
    "county_population_df.to_sql(name='county_population', con=engine, if_exists='replace', index=True)"
   ]
  },
  {
   "cell_type": "code",
   "execution_count": 13,
   "metadata": {},
   "outputs": [],
   "source": [
    "cases_by_county_df.to_sql(name='cases_by_county', con=engine, if_exists='replace', index=True)"
   ]
  }
 ],
 "metadata": {
  "kernelspec": {
   "display_name": "Python 3.8.3 64-bit",
   "language": "python",
   "name": "python_defaultSpec_1594574015645"
  },
  "language_info": {
   "codemirror_mode": {
    "name": "ipython",
    "version": 3
   },
   "file_extension": ".py",
   "mimetype": "text/x-python",
   "name": "python",
   "nbconvert_exporter": "python",
   "pygments_lexer": "ipython3",
   "version": "3.6.7"
  }
 },
 "nbformat": 4,
 "nbformat_minor": 2
}